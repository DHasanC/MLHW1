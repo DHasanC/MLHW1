{
  "nbformat": 4,
  "nbformat_minor": 0,
  "metadata": {
    "colab": {
      "name": "CAPHW1",
      "version": "0.3.2",
      "provenance": [],
      "include_colab_link": true
    },
    "kernelspec": {
      "name": "python3",
      "display_name": "Python 3"
    },
    "accelerator": "GPU"
  },
  "cells": [
    {
      "cell_type": "markdown",
      "metadata": {
        "id": "view-in-github",
        "colab_type": "text"
      },
      "source": [
        "<a href=\"https://colab.research.google.com/github/DHasanC/MLHW1/blob/master/CAPHW1.ipynb\" target=\"_parent\"><img src=\"https://colab.research.google.com/assets/colab-badge.svg\" alt=\"Open In Colab\"/></a>"
      ]
    },
    {
      "metadata": {
        "id": "tizvEmI_WlXN",
        "colab_type": "text"
      },
      "cell_type": "markdown",
      "source": [
        "problem 1"
      ]
    },
    {
      "metadata": {
        "id": "Ub8BRj8o01F7",
        "colab_type": "code",
        "colab": {}
      },
      "cell_type": "code",
      "source": [
        "import numpy as np \n",
        "import matplotlib.pyplot as plt \n",
        "import keras\n",
        "from keras.datasets import mnist\n",
        "\n",
        "(x_train, y_train), (x_test, y_test) = mnist.load_data()\n",
        "\n",
        "X_train = x_train.reshape(x_train.shape[0], -1)/255\n",
        "X_test = x_test.reshape(x_test.shape[0], -1)/255"
      ],
      "execution_count": 0,
      "outputs": []
    },
    {
      "metadata": {
        "id": "S0WH0fo_tbDc",
        "colab_type": "code",
        "colab": {}
      },
      "cell_type": "code",
      "source": [
        "W= np.zeros((X_train.shape[1], 1))\n",
        "b=np.zeros(1)\n",
        "batch_size = 20\n",
        "learning_rate = 0.001"
      ],
      "execution_count": 0,
      "outputs": []
    },
    {
      "metadata": {
        "id": "rxEuxMz8th-E",
        "colab_type": "code",
        "colab": {}
      },
      "cell_type": "code",
      "source": [
        "def sigmoid (x):\n",
        "  y = 1/(1 + np.exp(-x))\n",
        "  return y\n",
        "\n",
        "def softmax(Z):\n",
        "  return np.exp(Z)/np.sum(np.exp(Z), axis = 1, keepdims= True)\n",
        "\n",
        "def d_sigmoid (x):   # sigmoid differentiation\n",
        "  y = sigmoid(x)*(1-sigmoid(x))\n",
        "  return y\n",
        "\n",
        "def forward_softmax(X, W, b):\n",
        "  Z = np.dot(X, W) + b\n",
        "  y = softmax(Z)\n",
        "  return y\n",
        "\n",
        "def loss_crossentropy(y, yest):\n",
        "  loss = - np.sum(y*np.log(yest)+(1-y)*np.log(1 - yest))/y.shape[0]\n",
        "  return loss\n",
        "\n",
        "def loss_meansquareerror (y, yest):\n",
        "  loss = np.sum((y-yest)*(y-yest))/y.shape[0]\n",
        "  return loss\n",
        "\n",
        "def loss_cc (y, yest): #catogorical cross entropy \n",
        "  loss = - np.sum(y*np.log(yest))/y.shape[0]\n",
        "  return loss"
      ],
      "execution_count": 0,
      "outputs": []
    },
    {
      "metadata": {
        "id": "hpmPnCwNU9gF",
        "colab_type": "code",
        "colab": {
          "base_uri": "https://localhost:8080/",
          "height": 187
        },
        "outputId": "9bff9c41-4c74-455e-acd0-8ce84c14fcbe"
      },
      "cell_type": "code",
      "source": [
        "for i in range(10):        #ten individual one vs all classifier for mean square error\n",
        "  W= np.zeros((X_train.shape[1], 1))\n",
        "  b=np.zeros(1)\n",
        "  Y_train = (y_train == i).reshape(-1,1)*1\n",
        "  m = X_train.shape[0]     #sample number in training set\n",
        "  \n",
        "  for j in range (20):     #20 epochs\n",
        "    \n",
        "    shuffled_indices = np.random.permutation(m)\n",
        "    X_shuffled = X_train[shuffled_indices]\n",
        "    y_shuffled = Y_train[shuffled_indices]\n",
        "    \n",
        "    for i in range(0, m, batch_size):\n",
        "      \n",
        "      X = X_shuffled[i : i + batch_size]\n",
        "      Y = y_shuffled[i : i + batch_size]  \n",
        "\n",
        "      y_est = sigmoid(np.dot(X, W) + b)   \n",
        "\n",
        "      loss = loss_meansquareerror(Y, y_est)\n",
        "      \n",
        "      dZ = (1/batch_size)*y_est*(1-y_est)*(y_est - Y) \n",
        "      dW = np.dot(X.T, dZ)\n",
        "      db = np.sum(dZ)      \n",
        "\n",
        "      W = W - learning_rate*dW\n",
        "      b = b -learning_rate*db\n",
        "        \n",
        "  Y_est = (sigmoid(np.dot(X_test, W) + b) >0.5)*1\n",
        "  acc = np.sum((Y_est == (y_test == i).reshape(-1,1))*1)/y_test.shape[0]\n",
        "  print (\"Accuracy : %f\" %(acc))"
      ],
      "execution_count": 48,
      "outputs": [
        {
          "output_type": "stream",
          "text": [
            "Accuracy : 0.909900\n",
            "Accuracy : 0.892800\n",
            "Accuracy : 0.928000\n",
            "Accuracy : 0.926300\n",
            "Accuracy : 0.927600\n",
            "Accuracy : 0.959500\n",
            "Accuracy : 0.914600\n",
            "Accuracy : 0.916600\n",
            "Accuracy : 0.960800\n",
            "Accuracy : 0.938900\n"
          ],
          "name": "stdout"
        }
      ]
    },
    {
      "metadata": {
        "id": "jBK8suhztmP8",
        "colab_type": "code",
        "outputId": "9817b75b-92f5-44c0-f4b6-96fa12218838",
        "colab": {
          "base_uri": "https://localhost:8080/",
          "height": 187
        }
      },
      "cell_type": "code",
      "source": [
        " for i in range(10):         #ten individual one vs all classifier for binary cross entropy loss\n",
        "  Y_train = (y_train == i).reshape(-1,1)*1\n",
        "  m = X_train.shape[0]       # sample number in training set\n",
        "  \n",
        "  for j in range (20):       #20 epochs\n",
        "    \n",
        "    shuffled_indices = np.random.permutation(m)\n",
        "    X_shuffled = X_train[shuffled_indices]\n",
        "    y_shuffled = Y_train[shuffled_indices]\n",
        "    \n",
        "    for i in range(0, m, batch_size):\n",
        "      \n",
        "      X = X_shuffled[i : i + batch_size]\n",
        "      Y = y_shuffled[i : i + batch_size]  \n",
        "\n",
        "      y_est = sigmoid(np.dot(X, W) + b)   \n",
        "\n",
        "      loss = loss_crossentropy(Y, y_est)\n",
        "      \n",
        "      dZ = (1/batch_size)*(y_est - Y) \n",
        "      dW = np.dot(X.T, dZ)\n",
        "      db = np.sum(dZ)      \n",
        "\n",
        "      W = W - learning_rate*dW\n",
        "      b = b -learning_rate*db\n",
        "        \n",
        "  Y_est = (sigmoid(np.dot(X_test, W) + b) >0.5)*1\n",
        "  acc = np.sum((Y_est == (y_test == i).reshape(-1,1))*1)/y_test.shape[0]\n",
        "  print (\"Accuracy : %f\" %(acc))"
      ],
      "execution_count": 49,
      "outputs": [
        {
          "output_type": "stream",
          "text": [
            "Accuracy : 0.901600\n",
            "Accuracy : 0.890100\n",
            "Accuracy : 0.914000\n",
            "Accuracy : 0.913000\n",
            "Accuracy : 0.913600\n",
            "Accuracy : 0.937600\n",
            "Accuracy : 0.908300\n",
            "Accuracy : 0.906700\n",
            "Accuracy : 0.927300\n",
            "Accuracy : 0.918500\n"
          ],
          "name": "stdout"
        }
      ]
    },
    {
      "metadata": {
        "id": "8k-PFjdqWQEF",
        "colab_type": "text"
      },
      "cell_type": "markdown",
      "source": [
        "problem 3"
      ]
    },
    {
      "metadata": {
        "id": "V7oxHbX0B7cT",
        "colab_type": "code",
        "colab": {}
      },
      "cell_type": "code",
      "source": [
        "W = np.zeros((X_train.shape[1], 10))\n",
        "b = np.zeros((1,10))\n",
        "\n",
        "a = y_train\n",
        "Y_train = np.zeros((a.size, a.max()+1))\n",
        "Y_train[np.arange(a.size),a] = 1\n"
      ],
      "execution_count": 0,
      "outputs": []
    },
    {
      "metadata": {
        "id": "MaC4_4o-67oA",
        "colab_type": "code",
        "colab": {}
      },
      "cell_type": "code",
      "source": [
        "m = X_train.shape[0] # number of samples in training set\n",
        "\n",
        "for j in range (20):\n",
        "\n",
        "  shuffled_indices = np.random.permutation(m)\n",
        "  X_shuffled = X_train[shuffled_indices]\n",
        "  y_shuffled = Y_train[shuffled_indices]\n",
        "\n",
        "  for i in range(0, m, batch_size):\n",
        "\n",
        "    X = X_shuffled[i : i + batch_size]\n",
        "    Y = y_shuffled[i : i + batch_size]  \n",
        "\n",
        "    y_est = forward_softmax(X, W, b)   \n",
        "\n",
        "    loss = loss_cc(Y, y_est)\n",
        "\n",
        "    dZ = (1/batch_size)*(y_est - Y) \n",
        "    '''dzi = {ai - 1, if ith level is true. ai otherwise} \n",
        "    which vectorized as dZ = A-Y. dZ is divided by batch size for normalizing \n",
        "    '''  \n",
        "    dW = np.dot(X.T, dZ)\n",
        "    db = np.sum(dZ)      \n",
        "\n",
        "    W = W - learning_rate*dW\n",
        "    b = b -learning_rate*db\n",
        "\n",
        "          \n",
        "  \n",
        "  \n",
        " "
      ],
      "execution_count": 0,
      "outputs": []
    },
    {
      "metadata": {
        "id": "g0fJtbVCL1Gn",
        "colab_type": "code",
        "outputId": "1d4e0b85-aacf-441f-e173-be6a8d117d94",
        "colab": {
          "base_uri": "https://localhost:8080/",
          "height": 34
        }
      },
      "cell_type": "code",
      "source": [
        "y_est = forward_softmax(X_test, W, b)\n",
        "Y_est = np.argmax(y_est, axis = 1)\n",
        "acc = np.sum(Y_est == y_test)/y_test.shape[0]\n",
        "\n",
        "print (\"Accuracy for softmax classifier: %f\" %acc)"
      ],
      "execution_count": 55,
      "outputs": [
        {
          "output_type": "stream",
          "text": [
            "Accuracy for softmax classifier: 0.902300\n"
          ],
          "name": "stdout"
        }
      ]
    },
    {
      "metadata": {
        "id": "gmMgAsthWZWx",
        "colab_type": "text"
      },
      "cell_type": "markdown",
      "source": [
        "problem 4"
      ]
    },
    {
      "metadata": {
        "id": "FZgR5B9V86_J",
        "colab_type": "code",
        "outputId": "a3aa4ecd-1299-4e82-9669-250a509b45ae",
        "colab": {
          "base_uri": "https://localhost:8080/",
          "height": 170
        }
      },
      "cell_type": "code",
      "source": [
        "from keras import models\n",
        "from keras import layers\n",
        "\n",
        "network = models.Sequential()\n",
        "network.add(layers.Dense(10, activation='softmax', input_shape=(28 * 28,)))\n",
        "network.summary()"
      ],
      "execution_count": 56,
      "outputs": [
        {
          "output_type": "stream",
          "text": [
            "_________________________________________________________________\n",
            "Layer (type)                 Output Shape              Param #   \n",
            "=================================================================\n",
            "dense_2 (Dense)              (None, 10)                7850      \n",
            "=================================================================\n",
            "Total params: 7,850\n",
            "Trainable params: 7,850\n",
            "Non-trainable params: 0\n",
            "_________________________________________________________________\n"
          ],
          "name": "stdout"
        }
      ]
    },
    {
      "metadata": {
        "id": "wlICtwSl887I",
        "colab_type": "code",
        "colab": {}
      },
      "cell_type": "code",
      "source": [
        "X_train = x_train.reshape(x_train.shape[0], -1)/255\n",
        "X_test = x_test.reshape(x_test.shape[0], -1)/255\n",
        "\n",
        "a = y_train\n",
        "Y_train = np.zeros((a.size, a.max()+1))\n",
        "Y_train[np.arange(a.size),a] = 1\n",
        "Y_train = Y_train\n",
        "\n",
        "b = y_test\n",
        "Y_test = np.zeros((b.size, b.max()+1))\n",
        "Y_test[np.arange(b.size),b] = 1\n",
        "Y_test = Y_test"
      ],
      "execution_count": 0,
      "outputs": []
    },
    {
      "metadata": {
        "id": "8duTcmqB9AtA",
        "colab_type": "code",
        "colab": {}
      },
      "cell_type": "code",
      "source": [
        "from keras.optimizers import sgd\n",
        "\n",
        "network.compile(optimizer='sgd',\n",
        "                loss='categorical_crossentropy',\n",
        "                metrics=['accuracy'])"
      ],
      "execution_count": 0,
      "outputs": []
    },
    {
      "metadata": {
        "id": "A8e0q9249DbQ",
        "colab_type": "code",
        "outputId": "82d3421c-44ff-417b-ce39-a4ce765284d5",
        "colab": {
          "base_uri": "https://localhost:8080/",
          "height": 374
        }
      },
      "cell_type": "code",
      "source": [
        "epochs = 10\n",
        "history = network.fit(X_train, \n",
        "                      Y_train, \n",
        "                      epochs=epochs, \n",
        "                      batch_size=20, \n",
        "                      validation_data=(X_test, Y_test))"
      ],
      "execution_count": 59,
      "outputs": [
        {
          "output_type": "stream",
          "text": [
            "Train on 60000 samples, validate on 10000 samples\n",
            "Epoch 1/10\n",
            "60000/60000 [==============================] - 10s 175us/step - loss: 0.6602 - acc: 0.8393 - val_loss: 0.4219 - val_acc: 0.8889\n",
            "Epoch 2/10\n",
            "60000/60000 [==============================] - 10s 169us/step - loss: 0.4085 - acc: 0.8898 - val_loss: 0.3628 - val_acc: 0.9003\n",
            "Epoch 3/10\n",
            "60000/60000 [==============================] - 10s 168us/step - loss: 0.3683 - acc: 0.8985 - val_loss: 0.3375 - val_acc: 0.9072\n",
            "Epoch 4/10\n",
            "60000/60000 [==============================] - 10s 167us/step - loss: 0.3477 - acc: 0.9034 - val_loss: 0.3243 - val_acc: 0.9112\n",
            "Epoch 5/10\n",
            "60000/60000 [==============================] - 10s 167us/step - loss: 0.3346 - acc: 0.9069 - val_loss: 0.3152 - val_acc: 0.9121\n",
            "Epoch 6/10\n",
            "60000/60000 [==============================] - 10s 169us/step - loss: 0.3253 - acc: 0.9093 - val_loss: 0.3076 - val_acc: 0.9159\n",
            "Epoch 7/10\n",
            "60000/60000 [==============================] - 10s 169us/step - loss: 0.3181 - acc: 0.9118 - val_loss: 0.3035 - val_acc: 0.9162\n",
            "Epoch 8/10\n",
            "60000/60000 [==============================] - 10s 169us/step - loss: 0.3124 - acc: 0.9128 - val_loss: 0.2981 - val_acc: 0.9165\n",
            "Epoch 9/10\n",
            "60000/60000 [==============================] - 11s 177us/step - loss: 0.3076 - acc: 0.9145 - val_loss: 0.2960 - val_acc: 0.9172\n",
            "Epoch 10/10\n",
            "60000/60000 [==============================] - 10s 168us/step - loss: 0.3036 - acc: 0.9157 - val_loss: 0.2933 - val_acc: 0.9184\n"
          ],
          "name": "stdout"
        }
      ]
    },
    {
      "metadata": {
        "id": "K7XF6a4p9Fzg",
        "colab_type": "code",
        "colab": {}
      },
      "cell_type": "code",
      "source": [
        ""
      ],
      "execution_count": 0,
      "outputs": []
    }
  ]
}