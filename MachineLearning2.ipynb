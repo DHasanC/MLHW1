{
  "nbformat": 4,
  "nbformat_minor": 0,
  "metadata": {
    "colab": {
      "name": "MachineLearning2.ipynb",
      "version": "0.3.2",
      "provenance": [],
      "include_colab_link": true
    },
    "kernelspec": {
      "name": "python3",
      "display_name": "Python 3"
    }
  },
  "cells": [
    {
      "cell_type": "markdown",
      "metadata": {
        "id": "view-in-github",
        "colab_type": "text"
      },
      "source": [
        "<a href=\"https://colab.research.google.com/github/DHasanC/MLHW1/blob/master/MachineLearning2.ipynb\" target=\"_parent\"><img src=\"https://colab.research.google.com/assets/colab-badge.svg\" alt=\"Open In Colab\"/></a>"
      ]
    },
    {
      "metadata": {
        "id": "sLoJPhfqCbDj",
        "colab_type": "code",
        "colab": {
          "base_uri": "https://localhost:8080/",
          "height": 34
        },
        "outputId": "5fa16dff-6668-489e-b0f2-c9f3b837c113"
      },
      "cell_type": "code",
      "source": [
        "import os\n",
        "import numpy as np\n",
        "from keras.datasets import cifar10\n",
        "from keras import Sequential\n",
        "from keras.utils import np_utils\n",
        "from keras.optimizers import Adagrad, Adam\n",
        "from keras.layers import Conv2D, MaxPooling2D, Dropout, Dense, Activation, Flatten, BatchNormalization\n",
        "from keras import regularizers"
      ],
      "execution_count": 1,
      "outputs": [
        {
          "output_type": "stream",
          "text": [
            "Using TensorFlow backend.\n"
          ],
          "name": "stderr"
        }
      ]
    },
    {
      "metadata": {
        "id": "t4uU15OrChgT",
        "colab_type": "code",
        "colab": {
          "base_uri": "https://localhost:8080/",
          "height": 51
        },
        "outputId": "c7e775ab-e817-4bc4-9ffc-698e3e3f4756"
      },
      "cell_type": "code",
      "source": [
        "(train_images, train_labels),(test_images, test_labels) = cifar10.load_data()\n",
        "\n",
        "## Creating validation set from training dataset\n",
        "\n",
        "indices = np.random.permutation(len(train_images))\n",
        "\n",
        "val_indices = indices[0:10000]\n",
        "train_indices = indices[10000:]\n",
        "\n",
        "val_images, val_labels = train_images[val_indices], train_labels[val_indices]\n",
        "\n",
        "Train_images, Train_labels = train_images[train_indices], train_labels[train_indices]\n",
        "\n",
        "\n",
        "## Normalizing the Train, test and validation sets\n",
        "\n",
        "X_train = (Train_images/255).astype('float32')\n",
        "y_train = np_utils.to_categorical(Train_labels, 10)\n",
        "\n",
        "X_val = (val_images/255).astype('float32')\n",
        "y_val = np_utils.to_categorical(val_labels, 10)\n",
        "\n",
        "X_test = (test_images/255).astype('float32')\n",
        "y_test = np_utils.to_categorical(test_labels, 10)"
      ],
      "execution_count": 2,
      "outputs": [
        {
          "output_type": "stream",
          "text": [
            "Downloading data from https://www.cs.toronto.edu/~kriz/cifar-10-python.tar.gz\n",
            "170500096/170498071 [==============================] - 16s 0us/step\n"
          ],
          "name": "stdout"
        }
      ]
    },
    {
      "metadata": {
        "id": "vQqG_iiaCkwy",
        "colab_type": "code",
        "colab": {
          "base_uri": "https://localhost:8080/",
          "height": 581
        },
        "outputId": "4852f297-fbed-4867-f9ee-8ee1f5f4a3ab"
      },
      "cell_type": "code",
      "source": [
        "model1 = Sequential()\n",
        "model1.add(Conv2D(32, (3,3), strides = (1,1), padding='same', activation ='relu', input_shape =(32,32,3),kernel_initializer='he_normal', kernel_regularizer=regularizers.l2(0.0001)))\n",
        "#model.add(BatchNormalization())\n",
        "#model.add(MaxPooling2D(pool_size=(2,2)))\n",
        "\n",
        "\n",
        "model1.add(Conv2D(48, (3,3), strides = (1,1), padding='same', activation='relu', kernel_initializer='he_normal', kernel_regularizer=regularizers.l2(0.0001)))\n",
        "#model.add(BatchNormalization())\n",
        "#model.add(MaxPooling2D(pool_size=(2,2), padding='same'))\n",
        "\n",
        "model1.add(Conv2D(64, (3,3), strides= (1,1),padding='same', activation='relu', kernel_initializer='he_normal', kernel_regularizer=regularizers.l2(0.0001)))\n",
        "#model.add(BatchNormalization())\n",
        "model1.add(MaxPooling2D(pool_size=(2,2), padding= 'same'))\n",
        "#model1.add(Dropout(0.5))\n",
        " \n",
        "model1.add(Conv2D(128, (3,3), strides= (2,2), padding='same', activation = 'relu',kernel_initializer='he_normal', kernel_regularizer=regularizers.l2(0.0001)))\n",
        "#model.add(BatchNormalization())\n",
        "model1.add(MaxPooling2D(pool_size=(2,2), padding='same'))\n",
        "\n",
        "model1.add(Conv2D(256, (3,3), strides= (2,2), padding='same', activation = 'relu', kernel_initializer='he_normal', kernel_regularizer=regularizers.l2(0.0001)))\n",
        "#model.add(BatchNormalization())\n",
        "#model.add(MaxPooling2D(pool_size=(2,2)))\n",
        "\n",
        "model1.add(Flatten())\n",
        "#model.add(BatchNormalization())\n",
        "#model.add(Dense(128, activation='relu', kernel_regularizer=regularizers.l2(0.01), activity_regularizer=regularizers.l1(0.01))\n",
        "model1.add(Dense(128, activation='relu',  kernel_regularizer= regularizers.l2(0.0001)))\n",
        "model1.add(Dense(64, activation= 'relu'))\n",
        "model1.add(Dense(10, activation='softmax'))\n",
        "\n",
        "model1.summary()\n"
      ],
      "execution_count": 3,
      "outputs": [
        {
          "output_type": "stream",
          "text": [
            "WARNING:tensorflow:From /usr/local/lib/python3.6/dist-packages/tensorflow/python/framework/op_def_library.py:263: colocate_with (from tensorflow.python.framework.ops) is deprecated and will be removed in a future version.\n",
            "Instructions for updating:\n",
            "Colocations handled automatically by placer.\n",
            "_________________________________________________________________\n",
            "Layer (type)                 Output Shape              Param #   \n",
            "=================================================================\n",
            "conv2d_1 (Conv2D)            (None, 32, 32, 32)        896       \n",
            "_________________________________________________________________\n",
            "conv2d_2 (Conv2D)            (None, 32, 32, 48)        13872     \n",
            "_________________________________________________________________\n",
            "conv2d_3 (Conv2D)            (None, 32, 32, 64)        27712     \n",
            "_________________________________________________________________\n",
            "max_pooling2d_1 (MaxPooling2 (None, 16, 16, 64)        0         \n",
            "_________________________________________________________________\n",
            "conv2d_4 (Conv2D)            (None, 8, 8, 128)         73856     \n",
            "_________________________________________________________________\n",
            "max_pooling2d_2 (MaxPooling2 (None, 4, 4, 128)         0         \n",
            "_________________________________________________________________\n",
            "conv2d_5 (Conv2D)            (None, 2, 2, 256)         295168    \n",
            "_________________________________________________________________\n",
            "flatten_1 (Flatten)          (None, 1024)              0         \n",
            "_________________________________________________________________\n",
            "dense_1 (Dense)              (None, 128)               131200    \n",
            "_________________________________________________________________\n",
            "dense_2 (Dense)              (None, 64)                8256      \n",
            "_________________________________________________________________\n",
            "dense_3 (Dense)              (None, 10)                650       \n",
            "=================================================================\n",
            "Total params: 551,610\n",
            "Trainable params: 551,610\n",
            "Non-trainable params: 0\n",
            "_________________________________________________________________\n"
          ],
          "name": "stdout"
        }
      ]
    },
    {
      "metadata": {
        "id": "OfaSvvqgCuB6",
        "colab_type": "code",
        "colab": {
          "base_uri": "https://localhost:8080/",
          "height": 139
        },
        "outputId": "79a421ed-0f8a-46f3-dbd9-caf9a731024a"
      },
      "cell_type": "code",
      "source": [
        "# Initiate Adagrad/RMSprop optimizer\n",
        "model1.compile(loss='categorical_crossentropy',\n",
        "              optimizer='adagrad',\n",
        "              metrics=['accuracy'])\n",
        "\n",
        "## Train the model and get the training and validation loss\n",
        "history = model1.fit(X_train, y_train, batch_size= 40, epochs= 120,\n",
        "                    verbose=1, validation_data=(X_val, y_val))"
      ],
      "execution_count": 0,
      "outputs": [
        {
          "output_type": "stream",
          "text": [
            "WARNING:tensorflow:From /usr/local/lib/python3.6/dist-packages/tensorflow/python/ops/math_ops.py:3066: to_int32 (from tensorflow.python.ops.math_ops) is deprecated and will be removed in a future version.\n",
            "Instructions for updating:\n",
            "Use tf.cast instead.\n",
            "Train on 40000 samples, validate on 10000 samples\n",
            "Epoch 1/120\n",
            "28480/40000 [====================>.........] - ETA: 1:52 - loss: 14.5449 - acc: 0.1000"
          ],
          "name": "stdout"
        }
      ]
    },
    {
      "metadata": {
        "id": "tfSUffwGCzYq",
        "colab_type": "code",
        "colab": {}
      },
      "cell_type": "code",
      "source": [
        "## Score trained model.\n",
        "scores = model1.evaluate(X_test, y_test, verbose=1)\n",
        "print('Test loss:', scores[0])\n",
        "print('Test accuracy:', scores[1])"
      ],
      "execution_count": 0,
      "outputs": []
    },
    {
      "metadata": {
        "id": "EqiN9iVPDHeD",
        "colab_type": "code",
        "colab": {}
      },
      "cell_type": "code",
      "source": [
        "model2 = Sequential()\n",
        "model2.add(Conv2D(32, (3,3), strides = (1,1), padding='same', activation ='relu', input_shape =(32,32,3),kernel_initializer='he_normal', kernel_regularizer=regularizers.l2(0.0001)))\n",
        "model2.add(Dropout(0.1))\n",
        "\n",
        "\n",
        "model2.add(Conv2D(48, (3,3), strides = (1,1), padding='same', activation='relu', kernel_initializer='he_normal', kernel_regularizer=regularizers.l2(0.0001)))\n",
        "model2.add(Dropout(0.25))\n",
        "\n",
        "model2.add(Conv2D(64, (3,3), strides= (1,1),padding='same', activation='relu', kernel_initializer='he_normal', kernel_regularizer=regularizers.l2(0.0001)))\n",
        "model2.add(MaxPooling2D(pool_size=(2,2), padding= 'same'))\n",
        "model1.add(Dropout(0.5))\n",
        " \n",
        "model2.add(Conv2D(128, (3,3), strides= (2,2), padding='same', activation = 'relu',kernel_initializer='he_normal', kernel_regularizer=regularizers.l2(0.0001)))\n",
        "model2.add(MaxPooling2D(pool_size=(2,2), padding='same'))\n",
        "model2.add(Dropout(0.25))\n",
        "\n",
        "model2.add(Conv2D(256, (3,3), strides= (2,2), padding='same', activation = 'relu', kernel_initializer='he_normal', kernel_regularizer=regularizers.l2(0.0001)))\n",
        "model2.add(Dropout(0.1))\n",
        "\n",
        "model2.add(Flatten())\n",
        "model2.add(Dense(128, activation='relu',  kernel_regularizer= regularizers.l2(0.0001)))\n",
        "model2.add(Dense(64, activation= 'relu'))\n",
        "model2.add(Dense(10, activation='softmax'))\n",
        "\n",
        "model2.summary()"
      ],
      "execution_count": 0,
      "outputs": []
    },
    {
      "metadata": {
        "id": "aAE-TlemDK8L",
        "colab_type": "code",
        "colab": {}
      },
      "cell_type": "code",
      "source": [
        ""
      ],
      "execution_count": 0,
      "outputs": []
    }
  ]
}